{
 "cells": [
  {
   "cell_type": "code",
   "execution_count": 2,
   "id": "4f84a7b7-2e3d-4d01-92a1-233b051eeaa7",
   "metadata": {},
   "outputs": [],
   "source": [
    "import csv\n",
    "\n",
    "f1 = open('charts.csv',encoding='utf8')\n",
    "reader = csv.reader(f1)\n",
    "\n",
    "f = open('Canada.csv', 'w', newline ='')\n",
    "f.write('')\n",
    "f.close()\n",
    "\n",
    "f = open('Canada.csv', 'a', newline ='',encoding='utf8')\n",
    "writer = csv.writer(f)\n",
    "n = 0\n",
    "for row in reader:\n",
    "    while n == 0:\n",
    "        writer.writerow(row)\n",
    "        n += 1\n",
    "    if \"Canada\" in row[5]:\n",
    "        writer.writerow(row)\n",
    "f.close()"
   ]
  },
  {
   "cell_type": "code",
   "execution_count": 1,
   "id": "9e18cd9a-9211-441f-a8bd-b86e39010dad",
   "metadata": {},
   "outputs": [],
   "source": [
    "import csv\n",
    "\n",
    "f1 = open('charts.csv',encoding='utf8')\n",
    "reader = csv.reader(f1)\n",
    "\n",
    "f = open('Mexico.csv', 'w', newline ='')\n",
    "f.write('')\n",
    "f.close()\n",
    "\n",
    "f = open('Mexico.csv', 'a', newline ='',encoding='utf8')\n",
    "writer = csv.writer(f)\n",
    "n = 0\n",
    "for row in reader:\n",
    "    while n == 0:\n",
    "        writer.writerow(row)\n",
    "        n += 1\n",
    "    if \"Mexico\" in row[5]:\n",
    "        writer.writerow(row)\n",
    "f.close()"
   ]
  },
  {
   "cell_type": "code",
   "execution_count": 1,
   "id": "dab4714a-f8da-443e-bf34-70dae22ced8b",
   "metadata": {},
   "outputs": [],
   "source": [
    "import csv\n",
    "\n",
    "f1 = open('charts.csv',encoding='utf8')\n",
    "reader = csv.reader(f1)\n",
    "\n",
    "f = open('United_States.csv', 'w', newline ='')\n",
    "f.write('')\n",
    "f.close()\n",
    "\n",
    "f = open('United_States.csv', 'a', newline ='',encoding='utf8')\n",
    "writer = csv.writer(f)\n",
    "n = 0\n",
    "for row in reader:\n",
    "    while n == 0:\n",
    "        writer.writerow(row)\n",
    "        n += 1\n",
    "    if \"United States\" in row[5]:\n",
    "        writer.writerow(row)\n",
    "f.close()"
   ]
  },
  {
   "cell_type": "code",
   "execution_count": 11,
   "id": "4f834851-6991-459e-ba92-9ae955714e17",
   "metadata": {},
   "outputs": [],
   "source": [
    "import pymysql\n",
    "import mysecrets\n",
    "import csv\n",
    "\n",
    "conn = pymysql.connect(host=mysecrets.host, port=3306, user=mysecrets.user,\n",
    "                       passwd=mysecrets.passwd, db='is426', autocommit=True)\n",
    "cur = conn.cursor(pymysql.cursors.DictCursor)\n",
    "\n",
    "sql = ''' DROP TABLE IF EXISTS `perrince_North America Charts`;'''\n",
    "cur.execute(sql)\n",
    "\n",
    "sql = '''CREATE TABLE `perrince_North America Charts` (\n",
    "`Title` VARCHAR(50) NOT NULL,\n",
    "`Rank` INT(3) NOT NULL,\n",
    "`Date` DATETIME NOT NULL,\n",
    "`Artist` VARCHAR(100) NOT NULL,\n",
    "`Country` VARCHAR(30) NOT NULL,\n",
    "`Chart` VARCHAR(10) NOT NULL,\n",
    "`Number of Streams` INT(8) NOT NULL\n",
    ") ENGINE=MyISAM DEFAULT CHARSET=latin1 AUTO_INCREMENT=1; '''\n",
    "cur.execute(sql)\n",
    "\n",
    "with open('Canada.csv', encoding='utf8') as f:\n",
    "    data = [{k: str(v) for k, v in row.items()}\n",
    "        for row in csv.DictReader(f, skipinitialspace=True)]\n",
    "\n",
    "sql = '''INSERT INTO `perrince_North America Charts` (`Title`, `Rank`, `Date`, `Artist`, `Country`, `Chart`, `Number of Streams`)\n",
    "VALUES(%s, %s, %s, %s, %s, %s, %s);'''\n",
    "for row in data:\n",
    "    tokens = (row['title'], row['rank'], row['date'], row['artist'], \"Canada\", row['chart'], row['streams'])\n",
    "    cur.execute(sql,tokens)\n"
   ]
  },
  {
   "cell_type": "code",
   "execution_count": 12,
   "id": "83e2e878-2a4e-4bc8-9973-094d1df97741",
   "metadata": {},
   "outputs": [],
   "source": [
    "import pymysql\n",
    "import mysecrets\n",
    "import csv\n",
    "\n",
    "conn = pymysql.connect(host=mysecrets.host, port=3306, user=mysecrets.user,\n",
    "                       passwd=mysecrets.passwd, db='is426', autocommit=True)\n",
    "cur = conn.cursor(pymysql.cursors.DictCursor)\n",
    "   \n",
    "with open('Mexico.csv', encoding='utf8') as f:\n",
    "    data1 = [{k: str(v) for k, v in row.items()}\n",
    "        for row in csv.DictReader(f, skipinitialspace=True)]\n",
    "\n",
    "sql = '''INSERT INTO `perrince_North America Charts` (`Title`, `Rank`, `Date`, `Artist`, `Country`, `Chart`, `Number of Streams`)\n",
    "VALUES(%s, %s, %s, %s, %s, %s, %s);'''\n",
    "for row in data1:\n",
    "    if 'top200' in row['chart']:\n",
    "        tokens = (row['title'], row['rank'], row['date'], row['artist'], \"Mexico\", row['chart'], row['streams'])\n",
    "        cur.execute(sql,tokens)    "
   ]
  },
  {
   "cell_type": "code",
   "execution_count": 13,
   "id": "7de945ad-701c-495d-8605-d481802bb9c1",
   "metadata": {},
   "outputs": [],
   "source": [
    "import pymysql\n",
    "import mysecrets\n",
    "import csv\n",
    "\n",
    "conn = pymysql.connect(host=mysecrets.host, port=3306, user=mysecrets.user,\n",
    "                       passwd=mysecrets.passwd, db='is426', autocommit=True)\n",
    "cur = conn.cursor(pymysql.cursors.DictCursor)\n",
    "\n",
    "with open('United_States.csv', encoding='utf8') as f:\n",
    "    data2 = [{k: str(v) for k, v in row.items()}\n",
    "        for row in csv.DictReader(f, skipinitialspace=True)]\n",
    "\n",
    "sql = '''INSERT INTO `perrince_North America Charts` (`Title`, `Rank`, `Date`, `Artist`, `Country`, `Chart`, `Number of Streams`)\n",
    "VALUES(%s, %s, %s, %s, %s, %s, %s);'''\n",
    "for row in data2:\n",
    "    if 'top200' in row['chart']:\n",
    "        tokens = (row['title'], row['rank'], row['date'], row['artist'], \"United States\", row['chart'], row['streams'])\n",
    "        cur.execute(sql,tokens)"
   ]
  },
  {
   "cell_type": "code",
   "execution_count": 21,
   "id": "dd723cc9-9804-48d1-b619-7bc6d7ad930e",
   "metadata": {},
   "outputs": [
    {
     "name": "stdout",
     "output_type": "stream",
     "text": [
      "God's Plan\n",
      "Pain 1993 (with Playboi Carti)\n",
      "Toosie Slide\n",
      "Nice For What\n",
      "Nonstop\n",
      "In My Feelings\n",
      "I'm Upset\n",
      "Money In The Grave (Drake ft. Rick Ross)\n",
      "Passionfruit\n",
      "Laugh Now Cry Later (feat. Lil Durk)\n",
      "What’s Next\n",
      "Fair Trade (with Travis Scott)\n",
      "Way 2 Sexy (with Future & Young Thug)\n"
     ]
    }
   ],
   "source": [
    "import pymysql\n",
    "import mysecrets\n",
    "\n",
    "conn = pymysql.connect(host=mysecrets.host, port=3306, user=mysecrets.user,\n",
    "                       passwd=mysecrets.passwd, db='is426', autocommit=True)\n",
    "cur = conn.cursor(pymysql.cursors.DictCursor)\n",
    "\n",
    "sql = '''SELECT Distinct(Title) FROM `perrince_North America Charts` \n",
    "WHERE `Country` = 'Canada' AND `Rank` = 1 AND `Artist` LIKE \"%Drake%\"'''\n",
    "cur.execute(sql)\n",
    "\n",
    "for row in cur:\n",
    "    print(row['Title'])"
   ]
  },
  {
   "cell_type": "code",
   "execution_count": 33,
   "id": "262dc341-44a3-4525-963a-2f0a59787684",
   "metadata": {},
   "outputs": [
    {
     "name": "stdout",
     "output_type": "stream",
     "text": [
      "Starboy | The Weeknd, Daft Punk | Canada | 917154\n",
      "Traicionera | Sebastian Yatra | Mexico | 3680758\n",
      "Bad and Boujee (feat. Lil Uzi Vert) | Migos | United States | 6146233\n"
     ]
    }
   ],
   "source": [
    "import pymysql\n",
    "import mysecrets\n",
    "\n",
    "conn = pymysql.connect(host=mysecrets.host, port=3306, user=mysecrets.user,\n",
    "                       passwd=mysecrets.passwd, db='is426', autocommit=True)\n",
    "cur = conn.cursor(pymysql.cursors.DictCursor)\n",
    "\n",
    "sql = '''SELECT `Title`,`Artist`,`Date`, `Country`, MAX(`Number of Streams`) \n",
    "FROM `perrince_North America Charts` Group BY `Country`;'''\n",
    "cur.execute(sql)\n",
    "\n",
    "for row in cur:\n",
    "    print(f'''{row['Title']} | {row['Artist']} | {row['Country']} | {row['MAX(`Number of Streams`)']}''')"
   ]
  },
  {
   "cell_type": "markdown",
   "id": "592d3d8d-6d01-45eb-8869-2efa41ff9978",
   "metadata": {},
   "source": [
    "Title | Artist | Country | Number of Streams\n",
    "------ | ------- | -------- | ---------\n",
    "Starboy | The Weeknd, Daft Punk | Canada | 917154\n",
    "Traicionera | Sebastian Yatra | Mexico | 3680758\n",
    "Bad and Boujee (feat. Lil Uzi Vert) | Migos | United States | 6146233"
   ]
  },
  {
   "cell_type": "code",
   "execution_count": 2,
   "id": "15bcf2a3-e181-466b-841c-08364b749660",
   "metadata": {},
   "outputs": [
    {
     "name": "stdout",
     "output_type": "stream",
     "text": [
      "200\n"
     ]
    },
    {
     "data": {
      "image/png": "[encoded data removed]",
      "text/plain": [
       "<Figure size 432x288 with 1 Axes>"
      ]
     },
     "metadata": {
      "needs_background": "light"
     },
     "output_type": "display_data"
    }
   ],
   "source": [
    "import pymysql\n",
    "import mysecrets\n",
    "import pandas as pd\n",
    "import numpy as np\n",
    "import matplotlib.pyplot as plt\n",
    "\n",
    "\n",
    "conn = pymysql.connect(host=mysecrets.host, port=3306, user=mysecrets.user,\n",
    "                       passwd=mysecrets.passwd, db='is426', autocommit=True)\n",
    "cur = conn.cursor(pymysql.cursors.DictCursor)\n",
    "\n",
    "sql = '''SELECT `Rank`, AVG(`Number of Streams`)\n",
    "FROM `perrince_North America Charts`\n",
    "GROUP BY `RANK`;'''\n",
    "cur.execute(sql)\n",
    "\n",
    "l = []\n",
    "for row in cur:\n",
    "    d = {}\n",
    "    d['Rank'] = row['Rank']\n",
    "    d['Average Streams'] = row['AVG(`Number of Streams`)']\n",
    "    l.append(d)\n",
    "    #print(f'''{row['Rank']} | {row['AVG(`Number of Streams`)']}''')\n",
    "    \n",
    "print(len(l))\n",
    "print(l)\n",
    "df = pd.DataFrame(l)\n",
    "\n",
    "fig = plt.figure()\n",
    "plt.scatter(df['Rank'], df['Average Streams'], color = 'green')\n",
    "plt.xticks(rotation=45,ha='right')\n",
    "\n",
    "plt.xlabel(\"Rank\")\n",
    "plt.ylabel(\"Average Streams\")\n",
    "#plt.title(\"Average Streams by Rank\")\n",
    "plt.show()"
   ]
  },
  {
   "cell_type": "code",
   "execution_count": 13,
   "id": "7d586b3b-691c-41b9-874b-5d078c3ab2e4",
   "metadata": {},
   "outputs": [
    {
     "name": "stdout",
     "output_type": "stream",
     "text": [
      "25\n"
     ]
    },
    {
     "data": {
      "image/png": "[encoded data removed]",
      "text/plain": [
       "<Figure size 432x288 with 1 Axes>"
      ]
     },
     "metadata": {
      "needs_background": "light"
     },
     "output_type": "display_data"
    }
   ],
   "source": [
    "import pymysql\n",
    "import mysecrets\n",
    "import pandas as pd\n",
    "import numpy as np\n",
    "import matplotlib.pyplot as plt\n",
    "\n",
    "\n",
    "conn = pymysql.connect(host=mysecrets.host, port=3306, user=mysecrets.user,\n",
    "                       passwd=mysecrets.passwd, db='is426', autocommit=True)\n",
    "cur = conn.cursor(pymysql.cursors.DictCursor)\n",
    "\n",
    "sql = '''SELECT DISTINCT (\n",
    "`Artist`\n",
    "), SUM(`Number of Streams`)\n",
    "FROM `perrince_North America Charts`\n",
    "GROUP BY `Artist`\n",
    "ORDER BY SUM(`Number of Streams`) DESC;'''\n",
    "cur.execute(sql)\n",
    "\n",
    "l = []\n",
    "n = 0\n",
    "for row in cur:\n",
    "    if n < 25:\n",
    "        d = {}\n",
    "        d['Artist'] = row['Artist']\n",
    "        d['Total Streams'] = row['SUM(`Number of Streams`)']\n",
    "        l.append(d)\n",
    "        n += 1\n",
    "\n",
    "        \n",
    "print(len(l))\n",
    "#print(l)\n",
    "df = pd.DataFrame(l)\n",
    "\n",
    "fig = plt.figure()\n",
    "plt.bar(df['Artist'], df['Total Streams'], color = 'red')\n",
    "plt.xticks(rotation=90,ha='right')\n",
    "\n",
    "plt.xlabel(\"Artist\")\n",
    "plt.ylabel(\"Total Streams\")\n",
    "plt.title(\"Total Streams by Artist\")\n",
    "plt.show()"
   ]
  },
  {
   "cell_type": "code",
   "execution_count": 1,
   "id": "f67084ed-7678-4ca1-a824-25d9231f2443",
   "metadata": {},
   "outputs": [
    {
     "name": "stdout",
     "output_type": "stream",
     "text": [
      "25\n"
     ]
    },
    {
     "data": {
      "image/png": "[encoded data removed]",
      "text/plain": [
       "<Figure size 432x288 with 1 Axes>"
      ]
     },
     "metadata": {
      "needs_background": "light"
     },
     "output_type": "display_data"
    }
   ],
   "source": [
    "import pymysql\n",
    "import mysecrets\n",
    "import pandas as pd\n",
    "import numpy as np\n",
    "import matplotlib.pyplot as plt\n",
    "\n",
    "\n",
    "conn = pymysql.connect(host=mysecrets.host, port=3306, user=mysecrets.user,\n",
    "                       passwd=mysecrets.passwd, db='is426', autocommit=True)\n",
    "cur = conn.cursor(pymysql.cursors.DictCursor)\n",
    "\n",
    "sql = '''SELECT DISTINCT (`Rank`), Count(`Rank`) AS 'Number of Times',`Artist`\n",
    "FROM `perrince_North America Charts`\n",
    "WHERE `Artist` = 'Juice WRLD'\n",
    "GROUP BY `Rank`\n",
    "ORDER BY Count(`Rank`) DESC;'''\n",
    "cur.execute(sql)\n",
    "\n",
    "l = []\n",
    "n = 0\n",
    "for row in cur:\n",
    "    if n < 25:\n",
    "        d = {}\n",
    "        d['Rank'] = row['Rank']\n",
    "        d['Number of Times'] = row['Number of Times']\n",
    "        l.append(d)\n",
    "        n += 1\n",
    "\n",
    "        \n",
    "print(len(l))\n",
    "#print(l)\n",
    "df = pd.DataFrame(l)\n",
    "\n",
    "fig = plt.figure()\n",
    "plt.scatter(df['Rank'], df['Number of Times'], color = 'red')\n",
    "plt.xticks(rotation=90,ha='right')\n",
    "\n",
    "plt.xlabel(\"Rank\")\n",
    "plt.ylabel(\"Number of Times\")\n",
    "plt.title(\"Number of Times at spots on Chart\")\n",
    "plt.show()"
   ]
  },
  {
   "cell_type": "code",
   "execution_count": 8,
   "id": "44f2072e-d622-4f16-bb9f-c2866cc7ca99",
   "metadata": {},
   "outputs": [
    {
     "name": "stdout",
     "output_type": "stream",
     "text": [
      "25\n"
     ]
    },
    {
     "data": {
      "image/png": "[encoded data removed]",
      "text/plain": [
       "<Figure size 432x288 with 1 Axes>"
      ]
     },
     "metadata": {
      "needs_background": "light"
     },
     "output_type": "display_data"
    }
   ],
   "source": [
    "import pymysql\n",
    "import mysecrets\n",
    "import pandas as pd\n",
    "import numpy as np\n",
    "import matplotlib.pyplot as plt\n",
    "\n",
    "\n",
    "conn = pymysql.connect(host=mysecrets.host, port=3306, user=mysecrets.user,\n",
    "                       passwd=mysecrets.passwd, db='is426', autocommit=True)\n",
    "cur = conn.cursor(pymysql.cursors.DictCursor)\n",
    "\n",
    "sql = '''SELECT DISTINCT (`Rank`), Count(`Rank`) AS 'Number of Times',`Artist`\n",
    "FROM `perrince_North America Charts`\n",
    "WHERE `Artist` = 'Juice WRLD'\n",
    "GROUP BY `Rank`\n",
    "ORDER BY `Rank` ASC;'''\n",
    "cur.execute(sql)\n",
    "\n",
    "l = []\n",
    "n = 0\n",
    "for row in cur:\n",
    "    if n < 25:\n",
    "        d = {}\n",
    "        d['Rank'] = row['Rank']\n",
    "        d['Number of Times'] = row['Number of Times']\n",
    "        l.append(d)\n",
    "        n += 1\n",
    "\n",
    "        \n",
    "print(len(l))\n",
    "#print(l)\n",
    "df = pd.DataFrame(l)\n",
    "\n",
    "fig = plt.figure()\n",
    "plt.scatter(df['Rank'], df['Number of Times'], color = 'black')\n",
    "plt.xticks(rotation=90,ha='right')\n",
    "\n",
    "plt.xlabel(\"Rank\")\n",
    "plt.ylabel(\"Number of Times\")\n",
    "plt.title(\"Number of Times in the Top 25\")\n",
    "plt.show()"
   ]
  },
  {
   "cell_type": "code",
   "execution_count": 7,
   "id": "1e26a201-9aed-40c3-a64b-fc67e7758285",
   "metadata": {},
   "outputs": [
    {
     "name": "stdout",
     "output_type": "stream",
     "text": [
      "25\n",
      "[{'Artist': 'Juice WRLD', 'Number of Streams': Decimal('1735246130')}, {'Artist': 'DaBaby', 'Number of Streams': Decimal('790810125')}, {'Artist': 'Lil Uzi Vert', 'Number of Streams': Decimal('782289687')}, {'Artist': 'Post Malone', 'Number of Streams': Decimal('679700498')}, {'Artist': 'Pop Smoke', 'Number of Streams': Decimal('678966586')}, {'Artist': 'Taylor Swift', 'Number of Streams': Decimal('661920617')}, {'Artist': 'The Weeknd', 'Number of Streams': Decimal('631866357')}, {'Artist': 'Billie Eilish', 'Number of Streams': Decimal('628237311')}, {'Artist': 'Roddy Ricch', 'Number of Streams': Decimal('626099526')}, {'Artist': 'Lil Baby', 'Number of Streams': Decimal('553954376')}, {'Artist': 'Drake', 'Number of Streams': Decimal('546569235')}, {'Artist': 'Harry Styles', 'Number of Streams': Decimal('520201364')}, {'Artist': 'Ariana Grande', 'Number of Streams': Decimal('468615209')}, {'Artist': 'Travis Scott', 'Number of Streams': Decimal('449514780')}, {'Artist': 'Justin Bieber', 'Number of Streams': Decimal('424870979')}, {'Artist': 'XXXTENTACION', 'Number of Streams': Decimal('371696866')}, {'Artist': 'Morgan Wallen', 'Number of Streams': Decimal('370598812')}, {'Artist': 'Dua Lipa', 'Number of Streams': Decimal('341974895')}, {'Artist': 'Polo G', 'Number of Streams': Decimal('329220197')}, {'Artist': 'Lil Mosey', 'Number of Streams': Decimal('328260083')}, {'Artist': 'Future', 'Number of Streams': Decimal('314183281')}, {'Artist': 'Lewis Capaldi', 'Number of Streams': Decimal('297856989')}, {'Artist': 'YNW Melly', 'Number of Streams': Decimal('293029279')}, {'Artist': 'Eminem', 'Number of Streams': Decimal('268608683')}, {'Artist': 'Doja Cat', 'Number of Streams': Decimal('267530417')}]\n"
     ]
    },
    {
     "data": {
      "image/png": "[encoded data removed]",
      "text/plain": [
       "<Figure size 432x288 with 1 Axes>"
      ]
     },
     "metadata": {
      "needs_background": "light"
     },
     "output_type": "display_data"
    }
   ],
   "source": [
    "import pymysql\n",
    "import mysecrets\n",
    "import pandas as pd\n",
    "import numpy as np\n",
    "import matplotlib.pyplot as plt\n",
    "\n",
    "\n",
    "conn = pymysql.connect(host=mysecrets.host, port=3306, user=mysecrets.user,\n",
    "                       passwd=mysecrets.passwd, db='is426', autocommit=True)\n",
    "cur = conn.cursor(pymysql.cursors.DictCursor)\n",
    "\n",
    "sql = '''SELECT `Artist`, SUM(`Number of Streams`) FROM `perrince_North America Charts` \n",
    "WHERE `Date` > '2020-01-01 00:00:00' AND `Date` < '2021-01-01 00:00:00' AND Country = \"United States\"\n",
    "GROUP BY `Artist`\n",
    "ORDER BY SUM(`Number of Streams`) DESC;'''\n",
    "cur.execute(sql)\n",
    "\n",
    "l = []\n",
    "n = 0\n",
    "for row in cur:\n",
    "    if n < 25:\n",
    "        d = {}\n",
    "        d['Artist'] = row['Artist']\n",
    "        d['Number of Streams'] = row['SUM(`Number of Streams`)']\n",
    "        l.append(d)\n",
    "        n += 1\n",
    "\n",
    "        \n",
    "print(len(l))\n",
    "print(l)\n",
    "df = pd.DataFrame(l)\n",
    "\n",
    "fig = plt.figure()\n",
    "plt.bar(df['Artist'], df['Number of Streams'], color = 'blue')\n",
    "plt.xticks(rotation=90,ha='right')\n",
    "\n",
    "plt.xlabel(\"Artist\")\n",
    "plt.ylabel(\"Number of Streams\")\n",
    "plt.title(\"Top Streamers for 2020\")\n",
    "plt.show()"
   ]
  },
  {
   "cell_type": "code",
   "execution_count": null,
   "id": "ac816888-d02e-45d4-b1c1-5d475414b0eb",
   "metadata": {},
   "outputs": [],
   "source": []
  }
 ],
 "metadata": {
  "kernelspec": {
   "display_name": "Python 3 (ipykernel)",
   "language": "python",
   "name": "python3"
  },
  "language_info": {
   "codemirror_mode": {
    "name": "ipython",
    "version": 3
   },
   "file_extension": ".py",
   "mimetype": "text/x-python",
   "name": "python",
   "nbconvert_exporter": "python",
   "pygments_lexer": "ipython3",
   "version": "3.8.7"
  }
 },
 "nbformat": 4,
 "nbformat_minor": 5
}
